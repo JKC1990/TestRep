{
 "cells": [
  {
   "cell_type": "markdown",
   "id": "b6e76880-21df-4919-88bb-777051da4a7e",
   "metadata": {},
   "source": [
    "# Data Science Tools and Ecosystem"
   ]
  },
  {
   "cell_type": "markdown",
   "id": "178137b2-d050-4e05-82d7-58025528d541",
   "metadata": {},
   "source": [
    "In this notebook, Data Science Tools and Ecosystem are summarized."
   ]
  },
  {
   "cell_type": "markdown",
   "id": "34da594d-3017-4987-b083-376293e04440",
   "metadata": {},
   "source": [
    "Some of the popular languages that Data Scientists use are:"
   ]
  },
  {
   "cell_type": "markdown",
   "id": "ce5d7aa2-78af-46e7-8680-f27050579ec9",
   "metadata": {},
   "source": [
    "1. Python"
   ]
  },
  {
   "cell_type": "markdown",
   "id": "cd0f3361-2004-410d-bfb5-794a4dd3077d",
   "metadata": {},
   "source": [
    "2. R"
   ]
  },
  {
   "cell_type": "markdown",
   "id": "7552e19b-d947-4f79-9900-fc14325b53ba",
   "metadata": {},
   "source": [
    "3. SQL"
   ]
  },
  {
   "cell_type": "markdown",
   "id": "635c3e00-6c1c-41d6-8f76-e9f9cf116a3b",
   "metadata": {},
   "source": [
    "4. Julia"
   ]
  },
  {
   "cell_type": "markdown",
   "id": "9cc64849-5358-459b-b81c-16a321094caa",
   "metadata": {},
   "source": [
    "Some of the commonly used libraries used by Data Scientists include:\n"
   ]
  },
  {
   "cell_type": "markdown",
   "id": "04bbf613-e5f9-4ae6-8de3-b0820b098ed5",
   "metadata": {},
   "source": [
    "1. Pandas"
   ]
  },
  {
   "cell_type": "markdown",
   "id": "2c92c5a5-defc-494f-bcd5-f8dff164f8ee",
   "metadata": {},
   "source": [
    "2. Numpy"
   ]
  },
  {
   "cell_type": "markdown",
   "id": "b8954eb4-b6c1-495c-9897-0a2ce54981bf",
   "metadata": {},
   "source": [
    "3. Matplotlib"
   ]
  },
  {
   "cell_type": "markdown",
   "id": "60155503-818b-48ac-88ea-06126ab4a1b3",
   "metadata": {},
   "source": [
    "4. Scikit-learn"
   ]
  },
  {
   "cell_type": "markdown",
   "id": "d49aa7d5-4cd0-4ae6-bd6d-7286f2041cbf",
   "metadata": {},
   "source": [
    "### Data Science Tools"
   ]
  },
  {
   "cell_type": "markdown",
   "id": "89c60c4b-6867-45f6-8ede-4f74f6b2a076",
   "metadata": {},
   "source": [
    "| Data Science Tools |"
   ]
  },
  {
   "cell_type": "markdown",
   "id": "97a247cc-3e02-4e22-a6c7-843ead7cdfd7",
   "metadata": {},
   "source": [
    "|--------------------|"
   ]
  },
  {
   "cell_type": "markdown",
   "id": "fe761871-9397-468a-b422-cf3b69f9a932",
   "metadata": {},
   "source": [
    "| Jupyter Notebook   |"
   ]
  },
  {
   "cell_type": "markdown",
   "id": "1396df3d-b92d-4dd4-a572-2b1a4a68802d",
   "metadata": {},
   "source": [
    "| RStudio            |"
   ]
  },
  {
   "cell_type": "markdown",
   "id": "e66648d8-a90b-4b7d-a673-6eb4e8c100a9",
   "metadata": {},
   "source": [
    "| Apache Zeppelin    |"
   ]
  },
  {
   "cell_type": "markdown",
   "id": "a6f5ab7b-656c-4aa1-a56b-f4fe75996fc1",
   "metadata": {},
   "source": [
    "### Below are a few examples of evaluating arithmetic expressions in Python"
   ]
  },
  {
   "cell_type": "code",
   "execution_count": 27,
   "id": "2a1de711-c8a1-4c63-88fa-c1c8d68e745a",
   "metadata": {},
   "outputs": [],
   "source": [
    "# This is a simple arithmetic expression to multiply then add integers"
   ]
  },
  {
   "cell_type": "code",
   "execution_count": 29,
   "id": "0afd5f99-2120-4ac9-b0d0-f500d812b466",
   "metadata": {},
   "outputs": [],
   "source": [
    "result = (3 * 4) + 5"
   ]
  },
  {
   "cell_type": "code",
   "execution_count": 31,
   "id": "6bb3505b-ac49-47f7-87ff-48cccf89a593",
   "metadata": {},
   "outputs": [
    {
     "data": {
      "text/plain": [
       "17"
      ]
     },
     "execution_count": 31,
     "metadata": {},
     "output_type": "execute_result"
    }
   ],
   "source": [
    "result"
   ]
  },
  {
   "cell_type": "code",
   "execution_count": 33,
   "id": "8153ddf3-9343-4307-bc36-4ab63c1913b8",
   "metadata": {},
   "outputs": [],
   "source": [
    "# This will convert 200 minutes to hours by dividing by 60"
   ]
  },
  {
   "cell_type": "code",
   "execution_count": 35,
   "id": "135eb72b-b45d-4611-acdb-b6f73a967a7f",
   "metadata": {},
   "outputs": [],
   "source": [
    "hours = 200 / 60"
   ]
  },
  {
   "cell_type": "code",
   "execution_count": 37,
   "id": "e691c205-8131-4f49-b1bc-3ae212af89f6",
   "metadata": {},
   "outputs": [
    {
     "data": {
      "text/plain": [
       "3.3333333333333335"
      ]
     },
     "execution_count": 37,
     "metadata": {},
     "output_type": "execute_result"
    }
   ],
   "source": [
    "hours"
   ]
  },
  {
   "cell_type": "markdown",
   "id": "fd0a712c-7f7e-456d-ae7d-584f85b5b439",
   "metadata": {},
   "source": [
    "**Objectives:**"
   ]
  },
  {
   "cell_type": "markdown",
   "id": "52674bed-e923-4e20-82e8-84db682a4ae0",
   "metadata": {},
   "source": [
    "- List popular languages for Data Science"
   ]
  },
  {
   "cell_type": "markdown",
   "id": "f464a7d2-9ee5-4865-9e28-fa7472273839",
   "metadata": {},
   "source": [
    "- Identify commonly used libraries in Data Science"
   ]
  },
  {
   "cell_type": "markdown",
   "id": "47e4bcd7-647b-4a39-a22f-2eda2a0f6989",
   "metadata": {},
   "source": [
    "- Recognize key development environment tools used by Data Scientists"
   ]
  },
  {
   "cell_type": "markdown",
   "id": "edb01a47-ca7c-482d-ab0c-2ca373edc526",
   "metadata": {},
   "source": [
    "- Understand basic arithmetic operations and unit conversions in Python"
   ]
  },
  {
   "cell_type": "markdown",
   "id": "b798fb96-8043-49db-9df1-e32794d5acc7",
   "metadata": {},
   "source": [
    "## Author"
   ]
  },
  {
   "cell_type": "markdown",
   "id": "c607cf13-91ff-4203-b657-f600bbb31425",
   "metadata": {},
   "source": [
    "Jobin Chandy"
   ]
  },
  {
   "cell_type": "code",
   "execution_count": null,
   "id": "76914eda-337c-4c50-98b3-7206095530bb",
   "metadata": {},
   "outputs": [],
   "source": []
  }
 ],
 "metadata": {
  "kernelspec": {
   "display_name": "Python 3 (ipykernel)",
   "language": "python",
   "name": "python3"
  },
  "language_info": {
   "codemirror_mode": {
    "name": "ipython",
    "version": 3
   },
   "file_extension": ".py",
   "mimetype": "text/x-python",
   "name": "python",
   "nbconvert_exporter": "python",
   "pygments_lexer": "ipython3",
   "version": "3.12.7"
  }
 },
 "nbformat": 4,
 "nbformat_minor": 5
}
